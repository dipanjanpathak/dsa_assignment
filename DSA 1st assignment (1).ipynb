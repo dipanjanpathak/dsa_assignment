{
 "cells": [
  {
   "cell_type": "raw",
   "id": "084e72b0-ef21-48c1-b41b-d05a2152e5d1",
   "metadata": {},
   "source": [
    "Q.2 Given two strings word1 and word2, return the minimum number of operations required to convert word1\n",
    "to word2.\n"
   ]
  },
  {
   "cell_type": "code",
   "execution_count": 3,
   "id": "d2f2a1ff-0e83-4bfa-bb80-9bd4839368e2",
   "metadata": {},
   "outputs": [
    {
     "name": "stdout",
     "output_type": "stream",
     "text": [
      "3\n"
     ]
    }
   ],
   "source": [
    "def minDistance(word1: str, word2: str) -> int:\n",
    "    if len(word1) == 0:\n",
    "        return len(word2)\n",
    "    if len(word2) == 0:\n",
    "        return len(word1)\n",
    "    if word1[-1] == word2[-1]:\n",
    "        return minDistance(word1[:-1], word2[:-1])\n",
    "    insert = 1 + minDistance(word1, word2[:-1])\n",
    "    delete = 1 + minDistance(word1[:-1], word2)\n",
    "    replace = 1 + minDistance(word1[:-1], word2[:-1])\n",
    "    return min(insert, delete, replace)\n",
    "\n",
    "\n",
    "word1 = \"horse\"\n",
    "word2 = \"ros\"\n",
    "print(minDistance(word1, word2)) \n"
   ]
  },
  {
   "cell_type": "raw",
   "id": "cd0b2e0e-c71c-4cb9-8c27-276efef2088e",
   "metadata": {},
   "source": [
    "Q. 3 Print the max value of the array [ 13, 1, -3, 22, 5]."
   ]
  },
  {
   "cell_type": "code",
   "execution_count": 7,
   "id": "9d933d2f-6b81-42f6-b3cb-0a56acf64bff",
   "metadata": {},
   "outputs": [
    {
     "name": "stdout",
     "output_type": "stream",
     "text": [
      "Max value: 22\n"
     ]
    }
   ],
   "source": [
    "def max_value(arr, n):\n",
    "    if n == 1:\n",
    "        return arr[0]\n",
    "    else:\n",
    "        return max(arr[n-1], max_value(arr, n-1))\n",
    "\n",
    "arr = [13, 1, -3, 22, 5]\n",
    "print(\"Max value:\", max_value(arr, len(arr)))\n"
   ]
  },
  {
   "cell_type": "raw",
   "id": "8989b133-5ebf-45a2-a50d-ab7c7b7a7d54",
   "metadata": {},
   "source": [
    "Q.4 Find the sum of the values of the array [92, 23, 15, -20, 10]."
   ]
  },
  {
   "cell_type": "code",
   "execution_count": 8,
   "id": "434ace46-e605-4cb5-888b-953162ce2e4e",
   "metadata": {},
   "outputs": [
    {
     "name": "stdout",
     "output_type": "stream",
     "text": [
      "Sum of array: 120\n"
     ]
    }
   ],
   "source": [
    "def array_sum(arr, n):\n",
    "    if n == 0:\n",
    "        return 0\n",
    "    else:\n",
    "        return arr[n - 1] + array_sum(arr, n - 1)\n",
    "\n",
    "\n",
    "arr = [92, 23, 15, -20, 10]\n",
    "print(\"Sum of array:\", array_sum(arr, len(arr)))\n"
   ]
  },
  {
   "cell_type": "raw",
   "id": "33396dc2-a1ee-466c-9e01-800b6b5e2ea1",
   "metadata": {},
   "source": [
    "Q.5 Given a number n. Print if it is an armstrong number or not.An armstrong number is a number if the sum\n",
    "of every digit in that number raised to the power of total digits in that number is equal to the number.\n",
    "Example : 153 = 1^3 + 5^3 + 3^3 = 1 + 125 + 27 = 153 hence 153 is an armstrong number. (Easy)\n",
    "Input1 : 153\n",
    "Output1 : Yes\n",
    "Input 2 : 134\n",
    "Output2 : No"
   ]
  },
  {
   "cell_type": "code",
   "execution_count": 6,
   "id": "54012d4a-8294-4929-973d-c2cae5b5bd7b",
   "metadata": {},
   "outputs": [
    {
     "name": "stdout",
     "output_type": "stream",
     "text": [
      "True\n",
      "False\n"
     ]
    }
   ],
   "source": [
    "def is_armstrong(n):\n",
    "    def calculate_sum_of_powers(num, power):\n",
    "        if num == 0:\n",
    "            return 0\n",
    "        else:\n",
    "            digit = num % 10\n",
    "            return (digit ** power) + calculate_sum_of_powers(num // 10, power)\n",
    "\n",
    "    num_digits = len(str(n))\n",
    "    sum_of_powers = calculate_sum_of_powers(n, num_digits)\n",
    "    return sum_of_powers == n\n",
    "\n",
    "input1 = 153\n",
    "input2 = 134\n",
    "\n",
    "if is_armstrong(input1):\n",
    "    print(\"Output1: Yes\")\n",
    "else:\n",
    "    print(\"Output1: No\")\n",
    "\n",
    "if is_armstrong(input2):\n",
    "    print(\"Output2: Yes\")\n",
    "else:\n",
    "    print(\"Output2: No\")\n"
   ]
  }
 ],
 "metadata": {
  "kernelspec": {
   "display_name": "Python 3 (ipykernel)",
   "language": "python",
   "name": "python3"
  },
  "language_info": {
   "codemirror_mode": {
    "name": "ipython",
    "version": 3
   },
   "file_extension": ".py",
   "mimetype": "text/x-python",
   "name": "python",
   "nbconvert_exporter": "python",
   "pygments_lexer": "ipython3",
   "version": "3.10.8"
  }
 },
 "nbformat": 4,
 "nbformat_minor": 5
}
